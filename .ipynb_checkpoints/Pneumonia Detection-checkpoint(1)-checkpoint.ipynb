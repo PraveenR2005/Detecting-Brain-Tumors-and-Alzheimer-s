{
 "cells": [
  {
   "cell_type": "code",
   "execution_count": 1,
   "id": "c4eefff6",
   "metadata": {},
   "outputs": [],
   "source": [
    "from tensorflow.keras.layers import Conv2D,Flatten,Dense,MaxPooling2D,Dropout,Activation\n",
    "from tensorflow.keras.preprocessing.image import ImageDataGenerator\n",
    "from tensorflow.keras.models import Sequential\n",
    "from tensorflow.keras.callbacks import EarlyStopping"
   ]
  },
  {
   "cell_type": "code",
   "execution_count": 2,
   "id": "4f5fafa1",
   "metadata": {},
   "outputs": [],
   "source": [
    "train_dir = 'chest_xray/train/'\n",
    "val_dir = 'chest_xray/val/'\n",
    "test_dir = 'chest_xray/test'"
   ]
  },
  {
   "cell_type": "code",
   "execution_count": 3,
   "id": "0f7d330c",
   "metadata": {},
   "outputs": [],
   "source": [
    "batch_size = 16\n",
    "epochs = 20\n",
    "img_height,img_width = 150,150\n",
    "nb_train_samples = 5217\n",
    "nb_validation_samples = 17"
   ]
  },
  {
   "cell_type": "code",
   "execution_count": 4,
   "id": "56eacfb4",
   "metadata": {},
   "outputs": [],
   "source": [
    "train_datagen = ImageDataGenerator(rescale=1./255,\n",
    "                                  shear_range=0.2,\n",
    "                                  zoom_range=0.2,\n",
    "                                  horizontal_flip=True)\n",
    "\n",
    "test_datagen = ImageDataGenerator(rescale=1./255)"
   ]
  },
  {
   "cell_type": "code",
   "execution_count": 5,
   "id": "f7bd9d66",
   "metadata": {},
   "outputs": [
    {
     "name": "stdout",
     "output_type": "stream",
     "text": [
      "Found 5216 images belonging to 2 classes.\n",
      "Found 16 images belonging to 2 classes.\n",
      "Found 624 images belonging to 2 classes.\n"
     ]
    }
   ],
   "source": [
    "train_data = train_datagen.flow_from_directory(train_dir,\n",
    "                                               target_size=(img_height,img_width),\n",
    "                                               batch_size=batch_size,\n",
    "                                               class_mode='binary')\n",
    "\n",
    "val_data = test_datagen.flow_from_directory(val_dir,\n",
    "                                               target_size=(img_height,img_width),\n",
    "                                               batch_size=batch_size,\n",
    "                                               class_mode='binary')\n",
    "\n",
    "test_data = test_datagen.flow_from_directory(test_dir,\n",
    "                                               target_size=(img_height,img_width),\n",
    "                                               batch_size=batch_size,\n",
    "                                               class_mode='binary')"
   ]
  },
  {
   "cell_type": "code",
   "execution_count": 6,
   "id": "93a2a84c",
   "metadata": {},
   "outputs": [
    {
     "name": "stdout",
     "output_type": "stream",
     "text": [
      "Model: \"sequential\"\n",
      "_________________________________________________________________\n",
      " Layer (type)                Output Shape              Param #   \n",
      "=================================================================\n",
      " conv2d (Conv2D)             (None, 148, 148, 32)      896       \n",
      "                                                                 \n",
      " max_pooling2d (MaxPooling2D  (None, 74, 74, 32)       0         \n",
      " )                                                               \n",
      "                                                                 \n",
      " conv2d_1 (Conv2D)           (None, 72, 72, 32)        9248      \n",
      "                                                                 \n",
      " max_pooling2d_1 (MaxPooling  (None, 36, 36, 32)       0         \n",
      " 2D)                                                             \n",
      "                                                                 \n",
      " conv2d_2 (Conv2D)           (None, 34, 34, 64)        18496     \n",
      "                                                                 \n",
      " max_pooling2d_2 (MaxPooling  (None, 17, 17, 64)       0         \n",
      " 2D)                                                             \n",
      "                                                                 \n",
      " flatten (Flatten)           (None, 18496)             0         \n",
      "                                                                 \n",
      " dense (Dense)               (None, 64)                1183808   \n",
      "                                                                 \n",
      " activation (Activation)     (None, 64)                0         \n",
      "                                                                 \n",
      " dropout (Dropout)           (None, 64)                0         \n",
      "                                                                 \n",
      " dense_1 (Dense)             (None, 1)                 65        \n",
      "                                                                 \n",
      " activation_1 (Activation)   (None, 1)                 0         \n",
      "                                                                 \n",
      "=================================================================\n",
      "Total params: 1,212,513\n",
      "Trainable params: 1,212,513\n",
      "Non-trainable params: 0\n",
      "_________________________________________________________________\n"
     ]
    }
   ],
   "source": [
    "model = Sequential()\n",
    "\n",
    "model.add(Conv2D(32,(3,3),input_shape=(img_height,img_width,3),activation = 'relu'))\n",
    "model.add(MaxPooling2D(pool_size=(2,2)))\n",
    "\n",
    "model.add(Conv2D(32,(3,3),activation = 'relu'))\n",
    "model.add(MaxPooling2D(pool_size=(2,2)))\n",
    "\n",
    "model.add(Conv2D(64,(3,3),activation = 'relu'))\n",
    "model.add(MaxPooling2D(pool_size=(2,2)))\n",
    "\n",
    "model.add(Flatten())\n",
    "model.add(Dense(64))\n",
    "model.add(Activation('relu'))\n",
    "model.add(Dropout(0.5))\n",
    "\n",
    "model.add(Dense(1))\n",
    "model.add(Activation('sigmoid'))\n",
    "\n",
    "model.summary()"
   ]
  },
  {
   "cell_type": "code",
   "execution_count": 7,
   "id": "356773e4",
   "metadata": {},
   "outputs": [],
   "source": [
    "model.compile(loss='binary_crossentropy',\n",
    "              metrics=['accuracy'],\n",
    "              optimizer='rmsprop')\n",
    "\n",
    "early_stopping = EarlyStopping(monitor=\"val_loss\",\n",
    "                                patience=6,\n",
    "                                verbose=1,\n",
    "                                restore_best_weights=True,\n",
    "                                )"
   ]
  },
  {
   "cell_type": "code",
   "execution_count": 8,
   "id": "5757d2ec",
   "metadata": {},
   "outputs": [
    {
     "name": "stdout",
     "output_type": "stream",
     "text": [
      "Epoch 1/20\n",
      "326/326 [==============================] - 111s 337ms/step - loss: 0.4450 - accuracy: 0.8060 - val_loss: 0.7041 - val_accuracy: 0.6250\n",
      "Epoch 2/20\n",
      "326/326 [==============================] - 107s 328ms/step - loss: 0.2776 - accuracy: 0.8892 - val_loss: 0.8397 - val_accuracy: 0.7500\n",
      "Epoch 3/20\n",
      "326/326 [==============================] - 107s 327ms/step - loss: 0.2461 - accuracy: 0.9053 - val_loss: 1.3533 - val_accuracy: 0.6875\n",
      "Epoch 4/20\n",
      "326/326 [==============================] - 107s 328ms/step - loss: 0.2131 - accuracy: 0.9199 - val_loss: 0.3779 - val_accuracy: 0.8125\n",
      "Epoch 5/20\n",
      "326/326 [==============================] - 111s 342ms/step - loss: 0.1965 - accuracy: 0.9306 - val_loss: 0.3938 - val_accuracy: 0.7500\n",
      "Epoch 6/20\n",
      "326/326 [==============================] - 109s 334ms/step - loss: 0.2098 - accuracy: 0.9266 - val_loss: 0.6575 - val_accuracy: 0.6875\n",
      "Epoch 7/20\n",
      "326/326 [==============================] - 107s 329ms/step - loss: 0.1865 - accuracy: 0.9367 - val_loss: 0.6419 - val_accuracy: 0.8125\n",
      "Epoch 8/20\n",
      "326/326 [==============================] - 108s 331ms/step - loss: 0.1921 - accuracy: 0.9335 - val_loss: 4.2594 - val_accuracy: 0.6250\n",
      "Epoch 9/20\n",
      "326/326 [==============================] - 108s 332ms/step - loss: 0.1713 - accuracy: 0.9390 - val_loss: 1.0727 - val_accuracy: 0.7500\n",
      "Epoch 10/20\n",
      "326/326 [==============================] - 107s 330ms/step - loss: 0.1799 - accuracy: 0.9365 - val_loss: 0.6507 - val_accuracy: 0.6875\n",
      "Epoch 11/20\n",
      "326/326 [==============================] - 109s 333ms/step - loss: 0.1658 - accuracy: 0.9429 - val_loss: 1.0892 - val_accuracy: 0.6875\n",
      "Epoch 12/20\n",
      "326/326 [==============================] - 111s 340ms/step - loss: 0.1669 - accuracy: 0.9463 - val_loss: 0.4587 - val_accuracy: 0.8125\n",
      "Epoch 13/20\n",
      "326/326 [==============================] - 108s 331ms/step - loss: 0.1669 - accuracy: 0.9402 - val_loss: 1.1054 - val_accuracy: 0.6250\n",
      "Epoch 14/20\n",
      "326/326 [==============================] - 113s 346ms/step - loss: 0.1561 - accuracy: 0.9490 - val_loss: 0.7315 - val_accuracy: 0.7500\n",
      "Epoch 15/20\n",
      "326/326 [==============================] - 109s 334ms/step - loss: 0.1588 - accuracy: 0.9463 - val_loss: 0.5185 - val_accuracy: 0.7500\n",
      "Epoch 16/20\n",
      "326/326 [==============================] - 114s 350ms/step - loss: 0.1548 - accuracy: 0.9480 - val_loss: 1.2977 - val_accuracy: 0.6875\n",
      "Epoch 17/20\n",
      "326/326 [==============================] - 109s 334ms/step - loss: 0.1577 - accuracy: 0.9488 - val_loss: 1.0795 - val_accuracy: 0.6875\n",
      "Epoch 18/20\n",
      "326/326 [==============================] - 124s 380ms/step - loss: 0.1352 - accuracy: 0.9574 - val_loss: 1.3101 - val_accuracy: 0.7500\n",
      "Epoch 19/20\n",
      "326/326 [==============================] - 127s 390ms/step - loss: 0.1558 - accuracy: 0.9490 - val_loss: 0.9431 - val_accuracy: 0.6250\n",
      "Epoch 20/20\n",
      "326/326 [==============================] - 123s 378ms/step - loss: 0.1480 - accuracy: 0.9526 - val_loss: 0.3010 - val_accuracy: 0.8750\n"
     ]
    }
   ],
   "source": [
    "history = model.fit(train_data,\n",
    "                  epochs=epochs,\n",
    "                  steps_per_epoch = nb_train_samples//batch_size,\n",
    "                  validation_data=val_data,\n",
    "                  validation_steps=nb_validation_samples//batch_size,\n",
    "                 )\n",
    "model.save('pneumonia_model.h5')"
   ]
  }
 ],
 "metadata": {
  "kernelspec": {
   "display_name": "Python 3 (ipykernel)",
   "language": "python",
   "name": "python3"
  },
  "language_info": {
   "codemirror_mode": {
    "name": "ipython",
    "version": 3
   },
   "file_extension": ".py",
   "mimetype": "text/x-python",
   "name": "python",
   "nbconvert_exporter": "python",
   "pygments_lexer": "ipython3",
   "version": "3.10.5"
  }
 },
 "nbformat": 4,
 "nbformat_minor": 5
}
